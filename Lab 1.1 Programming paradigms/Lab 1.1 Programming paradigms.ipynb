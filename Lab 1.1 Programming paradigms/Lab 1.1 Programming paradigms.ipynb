{
 "cells": [
  {
   "cell_type": "code",
   "execution_count": 182,
   "metadata": {},
   "outputs": [],
   "source": [
    "# SPDX-License-Identifier: MIT"
   ]
  },
  {
   "cell_type": "markdown",
   "metadata": {},
   "source": [
    "# Lab 1.1 Programming paradigms\n",
    "\n",
    "Copyright (C) 2025 Jacob Farnsworth\n",
    "\n",
    "Created for the course Programmering, datastrukturer och algoritmer NTI Gymnasiet Karlstad HT 2025"
   ]
  },
  {
   "cell_type": "markdown",
   "metadata": {},
   "source": [
    "## Write your name here"
   ]
  },
  {
   "cell_type": "markdown",
   "metadata": {},
   "source": [
    "## AI-Deklaration (Lärare)\n",
    "\n",
    "AI-verktyg har ej använts i framtagandet av denna laboration."
   ]
  },
  {
   "cell_type": "markdown",
   "metadata": {},
   "source": [
    "## Introduction\n",
    "\n",
    "In this lab, we will explore some approaches to problem-solving with different programming paradigms. A **programming paradigm** is a way of thinking about programming that influences the design of a programming language and the way programs can be written.\n",
    "\n",
    "It's important to note that most modern programming languages have features of *all* the major paradigms. These languages are referred to as *multi-paradigm*.\n",
    "\n",
    "For example, in Python, it's possible to write code in a procedural/imperative style, functional style, object-oriented style, or in some mixture of different styles. In fact, many programmers write code that would be considered a blend of paradigms; high-quality code usually tries to combine the strengths of different paradigms, depending on the situation.\n",
    "\n",
    "Some examples of programming languages that would be considered *multi-paradigm*:\n",
    "\n",
    "* Python\n",
    "* Java\n",
    "* C++\n",
    "* C#\n",
    "* JavaScript\n",
    "* Rust (mainly procedural/imperative and functional)\n",
    "* Lua\n",
    "\n",
    "Some examples of programming languages that would *not* be considered *multi-paradigm*:\n",
    "\n",
    "* C (mainly procedural/imperative)\n",
    "* COBOL (mainly procedural/imperative)\n",
    "* Fortran (mainly procedural/imperative)\n",
    "* BASIC (mainly procedural/imperative)\n",
    "* Haskell (mainly functional)\n",
    "* Lisp (mainly functional)\n",
    "* Erlang (mainly functional)\n",
    "* OCaml (mainly functional)"
   ]
  },
  {
   "cell_type": "markdown",
   "metadata": {},
   "source": [
    "## Terms to know\n",
    "\n",
    "By the end of this lab, you should know at a basic level what each of the following programming paradigms mean:\n",
    "\n",
    "* Imperative programming\n",
    "* Declarative programming\n",
    "* Procedural programming\n",
    "* Object-oriented programming\n",
    "* Functional programming\n",
    "\n",
    "In addition, you should know what these terms mean:\n",
    "\n",
    "* Statement\n",
    "* Procedure\n",
    "* Object\n",
    "* Class\n",
    "* Property\n",
    "* Method\n",
    "* Mutable variable\n",
    "* Immutable variable\n",
    "* Recursion"
   ]
  },
  {
   "cell_type": "markdown",
   "metadata": {},
   "source": [
    "## Procedural approach\n",
    "\n",
    "**Procedural programming** is a type of programming that focuses on breaking down problems into *procedures*. (In modern programming languages, *procedures* and *functions* are mostly the same thing.)\n",
    "\n",
    "Procedural programming is a type of **imperative programming**, which means that we think of programs as lists of *statements*; a program is a list of instructions to follow, step-by-step. Solving a problem or task is thus a matter of giving the computer the right set of instructions to follow.\n",
    "\n"
   ]
  },
  {
   "cell_type": "markdown",
   "metadata": {},
   "source": [
    "We're going to create a program that computes a student's course grade depending on their quiz and test results. We want to be able to take in some data like the following:\n",
    "\n",
    "* Student name: Christine\n",
    "* Quiz scores: 91, 72, 100, 81, 92, 100\n",
    "* Test scores: 76, 95\n",
    "\n",
    "and produce the following output:\n",
    "* Weighted average: 82.3\n",
    "* Final grade: B\n",
    "\n"
   ]
  },
  {
   "cell_type": "markdown",
   "metadata": {},
   "source": [
    "We'll compute the final course grade as a weighted average:\n",
    "\n",
    "* Tests 80%\n",
    "* Quizzes 20%\n",
    "\n",
    "And then we need to turn the grade number into a letter grade (A, B, C, D, F). We'll do this according to some rules, using a similar grading system as a typical American high school or college:\n",
    "\n",
    "* Between 90 and 100: A\n",
    "* Between 80 and 89: B\n",
    "* Between 70 and 79: C\n",
    "* Between 60 and 69: D\n",
    "* Under 60: F"
   ]
  },
  {
   "cell_type": "markdown",
   "metadata": {},
   "source": [
    "In procedural programming, we try to break down the program into a set of procedures, each one having a series of steps. In order to compute the letter grade, we need to compute the weighted average. In order to compute the weighted average, we need to compute the averages for the quiz and test scores.\n",
    "\n",
    "So, a function to compute the average of some list would be a good place to start."
   ]
  },
  {
   "cell_type": "code",
   "execution_count": 174,
   "metadata": {},
   "outputs": [],
   "source": [
    "def getSum(inputList):\n",
    "    if not inputList:\n",
    "        return None\n",
    "    \n",
    "    sum = 0\n",
    "\n",
    "    for x in inputList:\n",
    "        sum += x\n",
    "    \n",
    "    return sum"
   ]
  },
  {
   "cell_type": "code",
   "execution_count": 175,
   "metadata": {},
   "outputs": [],
   "source": [
    "def getAverage(inputList):\n",
    "    if not inputList:\n",
    "        return None\n",
    "    \n",
    "    return getSum(inputList) / len(inputList)"
   ]
  },
  {
   "cell_type": "markdown",
   "metadata": {},
   "source": [
    "It's also a good idea to test our new function, so that we know it works properly. To do this we'll use some `assert` statements."
   ]
  },
  {
   "cell_type": "code",
   "execution_count": 177,
   "metadata": {},
   "outputs": [],
   "source": [
    "# Some tests of the getAverage function\n",
    "assert getAverage([3, 1, 2]) == 2\n",
    "assert getAverage([3, 2]) == 2.5\n",
    "assert getAverage([]) == None"
   ]
  },
  {
   "cell_type": "markdown",
   "metadata": {},
   "source": [
    "Now, we can add functions to compute the weighted average, and to convert a grade to a letter grade."
   ]
  },
  {
   "cell_type": "code",
   "execution_count": 178,
   "metadata": {},
   "outputs": [],
   "source": [
    "def computeGrade(quizAverage, testAverage):\n",
    "    \"\"\"Computes a student's final grade, depending on their quiz\n",
    "    and test averages.\n",
    "\n",
    "    Tests are worth 80%\n",
    "    Quizzes are worth 20%\n",
    "    \"\"\"\n",
    "    return testAverage * 0.8 + quizAverage * 0.2"
   ]
  },
  {
   "cell_type": "markdown",
   "metadata": {},
   "source": [
    "### Task\n",
    "\n",
    "At the moment, the function `gradeToLetter()` does not work properly. You need to rewrite the function so that it correctly converts letter grades.\n",
    "\n",
    "You can start by running the tests and checking the cases that fail, and then looking at the logic in the function and correcting it."
   ]
  },
  {
   "cell_type": "code",
   "execution_count": 27,
   "metadata": {},
   "outputs": [],
   "source": [
    "def gradeToLetter(grade):\n",
    "    \"\"\"Convert a grade number to a letter grade according to the grading system.\n",
    "\n",
    "    * Between 90 and 100: A\n",
    "    * Between 80 and 89: B\n",
    "    * Between 70 and 79: C\n",
    "    * Between 60 and 69: D\n",
    "    * Under 60: F\n",
    "    \"\"\"\n",
    "\n",
    "    # YOUR CODE STARTS HERE\n",
    "    \n",
    "    if grade <= 60:\n",
    "        return 'F'\n",
    "    elif grade <= 70:\n",
    "        return 'D'\n",
    "    elif grade <= 80:\n",
    "        return 'C'\n",
    "    elif grade <= 90:\n",
    "        return 'B'\n",
    "    else:\n",
    "        return 'A'\n",
    "    \n",
    "    # YOUR CODE ENDS HERE\n"
   ]
  },
  {
   "cell_type": "code",
   "execution_count": 179,
   "metadata": {},
   "outputs": [],
   "source": [
    "assert gradeToLetter(96) == 'A'\n",
    "assert gradeToLetter(82) == 'B'\n",
    "assert gradeToLetter(90) == 'A'\n",
    "assert gradeToLetter(100) == 'A'\n",
    "assert gradeToLetter(52) == 'F'"
   ]
  },
  {
   "cell_type": "markdown",
   "metadata": {},
   "source": [
    "To define the data for a student, we can use variables.\n",
    "\n",
    "In imperative programming, the concept of *state* plays a very important role. Variables are important because they store some data which can be accessed or modified later, which is required for a program to have a state."
   ]
  },
  {
   "cell_type": "code",
   "execution_count": 180,
   "metadata": {},
   "outputs": [],
   "source": [
    "student1_name = \"Christine\"\n",
    "student1_quizzes = [91, 72, 100, 81, 92, 100]\n",
    "student1_tests = [76, 95]"
   ]
  },
  {
   "cell_type": "code",
   "execution_count": 181,
   "metadata": {},
   "outputs": [
    {
     "name": "stdout",
     "output_type": "stream",
     "text": [
      "Student's final grade (Christine)\n",
      "Weighted average: 86.26666666666668\n",
      "Letter grade: B\n"
     ]
    }
   ],
   "source": [
    "student1_quiz_average = getAverage(student1_quizzes)\n",
    "student1_test_average = getAverage(student1_tests)\n",
    "\n",
    "print(f\"Student's final grade ({student1_name})\")\n",
    "student1_grade = computeGrade(student1_quiz_average, student1_test_average)\n",
    "print(f\"Weighted average: {student1_grade}\")\n",
    "\n",
    "student1_letter_grade = gradeToLetter(student1_grade)\n",
    "print(f\"Letter grade: {student1_letter_grade}\")"
   ]
  },
  {
   "cell_type": "markdown",
   "metadata": {},
   "source": [
    "### Adding a new test"
   ]
  },
  {
   "cell_type": "code",
   "execution_count": 62,
   "metadata": {},
   "outputs": [],
   "source": [
    "student1_tests.append(42)"
   ]
  },
  {
   "cell_type": "code",
   "execution_count": 63,
   "metadata": {},
   "outputs": [
    {
     "name": "stdout",
     "output_type": "stream",
     "text": [
      "Student's final grade (Christine)\n",
      "Weighted average: 74.66666666666667\n",
      "Letter grade: C\n"
     ]
    }
   ],
   "source": [
    "student1_quiz_average = getAverage(student1_quizzes)\n",
    "student1_test_average = getAverage(student1_tests)\n",
    "\n",
    "print(f\"Student's final grade ({student1_name})\")\n",
    "student1_grade = computeGrade(student1_quiz_average, student1_test_average)\n",
    "print(f\"Weighted average: {student1_grade}\")\n",
    "\n",
    "student1_letter_grade = gradeToLetter(student1_grade)\n",
    "print(f\"Letter grade: {student1_letter_grade}\")"
   ]
  },
  {
   "cell_type": "markdown",
   "metadata": {},
   "source": [
    "### Multiple students"
   ]
  },
  {
   "cell_type": "code",
   "execution_count": 67,
   "metadata": {},
   "outputs": [],
   "source": [
    "students = [\n",
    "    (\"Christine\", [91, 72, 100, 81, 92, 100], [76, 95, 42]),\n",
    "    (\"Gary\", [82, 68, 80, 81, 62, 60], [72, 82, 80]),\n",
    "    (\"Alex\", [98, 82, 92, 96, 97, 100], [92, 93, 95])\n",
    "]"
   ]
  },
  {
   "cell_type": "code",
   "execution_count": 68,
   "metadata": {},
   "outputs": [
    {
     "name": "stdout",
     "output_type": "stream",
     "text": [
      "Student's final grade (Christine)\n",
      "Weighted average: 74.66666666666667\n",
      "Letter grade: C\n",
      "Student's final grade (Gary)\n",
      "Weighted average: 76.83333333333334\n",
      "Letter grade: C\n",
      "Student's final grade (Alex)\n",
      "Weighted average: 93.5\n",
      "Letter grade: A\n"
     ]
    }
   ],
   "source": [
    "for student in students:\n",
    "    student_name, student_quizzes, student_tests = student\n",
    "\n",
    "    student_quiz_average = getAverage(student_quizzes)\n",
    "    student_test_average = getAverage(student_tests)\n",
    "\n",
    "    print(f\"Student's final grade ({student_name})\")\n",
    "    student_grade = computeGrade(student_quiz_average, student_test_average)\n",
    "    print(f\"Weighted average: {student_grade}\")\n",
    "\n",
    "    student_letter_grade = gradeToLetter(student_grade)\n",
    "    print(f\"Letter grade: {student_letter_grade}\")"
   ]
  },
  {
   "cell_type": "markdown",
   "metadata": {},
   "source": [
    "### Task\n",
    "\n",
    "The code above has some repeated parts. For example, the following code is repeated almost exactly:\n",
    "\n",
    "```student1_quiz_average = getAverage(student1_quizzes)\n",
    "student1_test_average = getAverage(student1_tests)\n",
    "\n",
    "print(f\"Student's final grade ({student1_name})\")\n",
    "student1_grade = computeGrade(student1_quiz_average, student1_test_average)\n",
    "print(f\"Weighted average: {student1_grade}\")\n",
    "\n",
    "student1_letter_grade = gradeToLetter(student1_grade)\n",
    "print(f\"Letter grade: {student1_letter_grade}\")\n",
    "```\n",
    "\n",
    "* For the first student, Christine, before taking the third test.\n",
    "* For the first student, Christine, after taking the third test.\n",
    "* In the loop for multiple students.\n",
    "\n",
    "When code is repeated almost exactly, this is a very good clue that it can be *rewritten* with the help of *abstractions*, for example using functions, classes, or other concepts.\n",
    "\n",
    "Since we're trying to stick to a *procedural approach*, we'll break the code into more functions which can be re-used to make the code cleaner.\n",
    "\n",
    "Your task is to write a function that does the following:\n",
    "\n",
    "* Take in a student's data (quizzes, tests) as parameters.\n",
    "* Compute the quiz average and test average.\n",
    "* *Return* the weighted average and letter grade.\n",
    "\n",
    "And a second function that does the following:\n",
    "\n",
    "* Take in the student's name, quiz average, and test average.\n",
    "* Print the name, quiz average, and test average all at once.\n",
    "\n",
    "Remember, you're *not* allowed to use classes right now. We will get to classes in the next section on OOP, but for now, stick to adding the new function.\n",
    "\n",
    "**Don't modify the code above**; rather, write all your code in the section below."
   ]
  },
  {
   "cell_type": "markdown",
   "metadata": {},
   "source": [
    "### Student Answers (Code)"
   ]
  },
  {
   "cell_type": "code",
   "execution_count": null,
   "metadata": {},
   "outputs": [],
   "source": [
    "# YOUR CODE STARTS HERE\n",
    "\n",
    "# YOUR CODE ENDS HERE"
   ]
  },
  {
   "cell_type": "markdown",
   "metadata": {},
   "source": [
    "### Questions\n",
    "\n",
    "1.   Compare the code before writing the new functions, and the code after. What are the differences?\n",
    "2.   It would also be possible to combine the two functions into one, and have one function that computes *and* prints the grade at the same time. Why is it a good idea to keep the logic separate in two functions?"
   ]
  },
  {
   "cell_type": "markdown",
   "metadata": {},
   "source": [
    "### Student Answers\n",
    "\n",
    "Write your answers to the questions here.\n",
    "\n",
    "1.   \n",
    "2.   "
   ]
  },
  {
   "cell_type": "markdown",
   "metadata": {},
   "source": [
    "## Object-oriented approach\n",
    "\n",
    "**Object-oriented programming** centers around the idea of using classes and objects to organize data and behavior. In the object-oriented approach, we try to break down a problem or task into objects, and then solving the problem or task is a matter of letting those objects interact with each other.\n",
    "\n",
    "OOP has some traits of imperative and procedural programming. In many languages with objects and classes (including Python) we often use procedures/functions with an imperative style. However, OOP also has some traits of **declarative programming**; this means that we think of the code as describing *what* the program should do, with less focus on exactly *how* it does it.\n",
    "\n",
    "In the case of OOP, this means thinking about what objects exist in the \"world\" of the program, and then trying to describe them using classes; we characterize their behavior using methods, and their data using properties."
   ]
  },
  {
   "cell_type": "markdown",
   "metadata": {},
   "source": [
    "In our example with students and grades, we can make the observation that we have some *data* (name, quiz scores, test scores) that *belongs* to every student.\n",
    "\n",
    "Furthermore, all students have some *behavior* in common. Every student can take a quiz or test (adding the new score to their list), have their average scores computed, or check their final grade.\n",
    "\n",
    "In the OOP approach, we can organize all of this together using a *class* called `Student`."
   ]
  },
  {
   "cell_type": "code",
   "execution_count": 153,
   "metadata": {},
   "outputs": [],
   "source": [
    "class Student:\n",
    "    def __init__(self, name, quizzes, tests):\n",
    "        self.name = name\n",
    "        self.quizzes = quizzes\n",
    "        self.tests = tests\n",
    "\n",
    "    def takeQuiz(self, quiz):\n",
    "        self.quizzes.append(quiz)\n",
    "\n",
    "    def takeTest(self, test):\n",
    "        self.tests.append(test)\n",
    "    \n",
    "    def getQuizAverage(self):\n",
    "        return getAverage(self.quizzes)\n",
    "    \n",
    "    def getTestAverage(self):\n",
    "        return getAverage(self.tests)\n",
    "    \n",
    "    def getFinalGrade(self):\n",
    "        return 0.2 * self.getQuizAverage() + 0.8 * self.getTestAverage()\n",
    "\n",
    "    def getLetterGrade(self):\n",
    "        return gradeToLetter(self.getFinalGrade())"
   ]
  },
  {
   "cell_type": "code",
   "execution_count": 159,
   "metadata": {},
   "outputs": [],
   "source": [
    "class StudentPrinter:\n",
    "    def __init__(self, shortened):\n",
    "        self.shortened = shortened\n",
    "\n",
    "    def printDetails(self, student):\n",
    "        if self.shortened:\n",
    "            print(f\"{student.name} / {student.getFinalGrade()} / {student.getLetterGrade()}\")\n",
    "        else:\n",
    "            print(f\"Student's final grade ({student.name})\")\n",
    "            print(f\"Weighted average: {student.getFinalGrade()}\")\n",
    "            print(f\"Letter grade: {student.getLetterGrade()}\")"
   ]
  },
  {
   "cell_type": "markdown",
   "metadata": {},
   "source": [
    "Now, we can create Student objects by supplying their name and scores to the constructor:"
   ]
  },
  {
   "cell_type": "code",
   "execution_count": 154,
   "metadata": {},
   "outputs": [],
   "source": [
    "student1 = Student(\"Christine\", [91, 72, 100, 81, 92, 100], [76, 95])"
   ]
  },
  {
   "cell_type": "markdown",
   "metadata": {},
   "source": [
    "If we want to know `student1`'s test scores, we can access them like so:"
   ]
  },
  {
   "cell_type": "code",
   "execution_count": 161,
   "metadata": {},
   "outputs": [
    {
     "name": "stdout",
     "output_type": "stream",
     "text": [
      "Christine\n",
      "[76, 95]\n"
     ]
    }
   ],
   "source": [
    "print(student1.name)\n",
    "print(student1.tests)"
   ]
  },
  {
   "cell_type": "markdown",
   "metadata": {},
   "source": [
    "In this case, having the student's data as an object is much nicer than as a tuple, because the properties can be given names (`name`, `quizzes`, `tests`). Instead of writing `[0]` or `[2]`, we can write the name of the property (`name` or `tests`)"
   ]
  },
  {
   "cell_type": "markdown",
   "metadata": {},
   "source": [
    "We can also call methods on a student object. For example, we can run `getFinalGrade` \"from the perspective of\" `student1`.\n",
    "\n",
    "Notice that unlike the procedural approach, we don't need to pass around a bunch of data via parameters and return values. This is because the *object itself* stores much of the student data; name, quiz scores, test scores, and the class methods always have access to this data via `self`."
   ]
  },
  {
   "cell_type": "code",
   "execution_count": 158,
   "metadata": {},
   "outputs": [
    {
     "data": {
      "text/plain": [
       "86.26666666666668"
      ]
     },
     "execution_count": 158,
     "metadata": {},
     "output_type": "execute_result"
    }
   ],
   "source": [
    "student1.getFinalGrade()"
   ]
  },
  {
   "cell_type": "markdown",
   "metadata": {},
   "source": [
    "Let's use the `StudentPrinter` class to \"inspect\" the student object and print their grades. This is an example of how objects can *interact* with each other in OOP."
   ]
  },
  {
   "cell_type": "code",
   "execution_count": 163,
   "metadata": {},
   "outputs": [],
   "source": [
    "# with shortened=False so that details are printed a bit more clearly\n",
    "longPrinter = StudentPrinter(shortened=False)\n",
    "\n",
    "# shortened=True to print abbreviated details\n",
    "shortPrinter = StudentPrinter(shortened=True)"
   ]
  },
  {
   "cell_type": "code",
   "execution_count": 164,
   "metadata": {},
   "outputs": [
    {
     "name": "stdout",
     "output_type": "stream",
     "text": [
      "Student's final grade (Christine)\n",
      "Weighted average: 86.26666666666668\n",
      "Letter grade: B\n"
     ]
    }
   ],
   "source": [
    "longPrinter.printDetails(student1)"
   ]
  },
  {
   "cell_type": "code",
   "execution_count": 165,
   "metadata": {},
   "outputs": [
    {
     "name": "stdout",
     "output_type": "stream",
     "text": [
      "Christine / 86.26666666666668 / B\n"
     ]
    }
   ],
   "source": [
    "shortPrinter.printDetails(student1)"
   ]
  },
  {
   "cell_type": "markdown",
   "metadata": {},
   "source": [
    "Notice that the code above (using `StudentPrinter` on `Student` objects) does not actually describe the logic of how student grades are computed, or even how student grades are printed on the screen. Rather, this is handled entirely by the `Student` and `StudentPrinter` classes, which interact with each other. The logic is delegated to the methods of these classes (`printDetails` in `StudentPrinter`, which calls `getFinalGrade` in `Student`, etc).\n",
    "\n",
    "Furthermore, the student data is *completely contained* within `Student`, and the printer data is contained in `StudentPrinter`. The code above doesn't deal with raw scores or grade data whatsoever. *Each class is fully responsible for its own data and behavior.*"
   ]
  },
  {
   "cell_type": "markdown",
   "metadata": {},
   "source": [
    "### Adding a new test"
   ]
  },
  {
   "cell_type": "markdown",
   "metadata": {},
   "source": [
    "Adding a new test score is very easy. All we need to do is call `takeTest` for `student1`.\n",
    "\n",
    "Again, it helps to think of this as a *behavior* that the student has, and we are running `takeTest` \"from the perspective of\" `student1`."
   ]
  },
  {
   "cell_type": "code",
   "execution_count": 166,
   "metadata": {},
   "outputs": [],
   "source": [
    "student1.takeTest(42)"
   ]
  },
  {
   "cell_type": "code",
   "execution_count": 167,
   "metadata": {},
   "outputs": [
    {
     "name": "stdout",
     "output_type": "stream",
     "text": [
      "Student's final grade (Christine)\n",
      "Weighted average: 74.66666666666667\n",
      "Letter grade: C\n"
     ]
    }
   ],
   "source": [
    "longPrinter.printDetails(student1)"
   ]
  },
  {
   "cell_type": "markdown",
   "metadata": {},
   "source": [
    "### Multiple students"
   ]
  },
  {
   "cell_type": "markdown",
   "metadata": {},
   "source": [
    "In the case of multiple students, we can create a list, just like we did in the procedural example. However, now we can use our `Student` class instead of creating tuples."
   ]
  },
  {
   "cell_type": "code",
   "execution_count": 146,
   "metadata": {},
   "outputs": [],
   "source": [
    "students = [\n",
    "    Student(\"Christine\", [91, 72, 100, 81, 92, 100], [76, 95, 42]),\n",
    "    Student(\"Gary\", [82, 68, 80, 81, 62, 60], [72, 82, 80]),\n",
    "    Student(\"Alex\", [98, 82, 92, 96, 97, 100], [92, 93, 95])\n",
    "]"
   ]
  },
  {
   "cell_type": "code",
   "execution_count": 183,
   "metadata": {},
   "outputs": [
    {
     "name": "stdout",
     "output_type": "stream",
     "text": [
      "Student's final grade (Christine)\n",
      "Weighted average: 74.66666666666667\n",
      "Letter grade: C\n",
      "Student's final grade (Gary)\n",
      "Weighted average: 76.83333333333334\n",
      "Letter grade: C\n",
      "Student's final grade (Alex)\n",
      "Weighted average: 93.5\n",
      "Letter grade: A\n"
     ]
    }
   ],
   "source": [
    "for student in students:\n",
    "    longPrinter.printDetails(student)"
   ]
  },
  {
   "cell_type": "markdown",
   "metadata": {},
   "source": [
    "### Questions\n",
    "\n",
    "1.   What is the benefit of putting the printing logic in its own class (`StudentPrinter`) instead of adding it to the existing `Student` class?\n",
    "2.   Compare the object-oriented approach to the procedural approach in the first section. What are the differences between the code? In what ways is the object-oriented approach better? Is the procedural approach better in any ways?"
   ]
  },
  {
   "cell_type": "markdown",
   "metadata": {},
   "source": [
    "### Student Answers\n",
    "\n",
    "1. \n",
    "2.   "
   ]
  },
  {
   "cell_type": "markdown",
   "metadata": {},
   "source": [
    "## Pure functional approach\n",
    "\n",
    "**Functional programming** involves treating computation as evaluation of mathematical functions, and programs are written by defining and composing functions.\n",
    "\n",
    "In functional programming, we see programs as describing **mathematical expressions**, as well as functions that map these expressions to new expressions. Solving a problem or task is then just a matter of describing the right mappings. However, we don't need to concern ourselves with exactly *how* these expressions are evaluated; this is a job for the compiler or interpreter. For this reason, functional programming is considered a **declarative** paradigm.\n",
    "\n",
    "As a general rule: In *pure* functional programming, we don't use mutable variables. The program is considered *stateless*.\n",
    "\n",
    "Note: A *mutable* variable is a variable that can be changed later after being defined. By contrast, a *constant* or *immutable* variable cannot be changed; it may only be defined once, then it can never be changed."
   ]
  },
  {
   "cell_type": "markdown",
   "metadata": {},
   "source": [
    "Example: In the code for the `getAverage()` function in the procedural example, the variable `sum` was a mutable variable, because it changed over the course of the function (inside the loop)."
   ]
  },
  {
   "cell_type": "markdown",
   "metadata": {},
   "source": [
    "Since we don't use mutable variables in pure functional programming, we'll have to rewrite our `getAverage` function from earlier. We'll start by breaking it off into another function, `getSum`, which computes the sum of a series of numbers.\n",
    "\n",
    "Now, let's make an important observation. Take some list of numbers, say `[12, 24, 2]`. The sum of this list of numbers is the *same* as 12 plus the sum of `[24, 2]`.\n",
    "\n",
    "We can write this idea mathematically as:\n",
    "\n",
    "`sum(12, 24, 2) = 12 + sum(24, 2)`\n",
    "\n",
    "This observation might seem almost stupid, but it will help us rewrite the sum as a pure function, without the need to use any variable or loop."
   ]
  },
  {
   "cell_type": "code",
   "execution_count": 170,
   "metadata": {},
   "outputs": [],
   "source": [
    "def getSum(inputList):\n",
    "    if not inputList:\n",
    "        return 0\n",
    "    \n",
    "    if len(inputList) == 1:\n",
    "        return inputList[0]\n",
    "    \n",
    "    return inputList[0] + getSum(inputList[1:])\n",
    "\n",
    "# When getSum is called:\n",
    "# -  getSum([12, 24, 2])\n",
    "# The first getSum will call getSum *again*:\n",
    "# -> 12 + getSum([24, 2])\n",
    "# -> 12 + 24 + getSum([2])\n",
    "# -> 12 + 24 + 2\n",
    "\n",
    "# then evaluates to\n",
    "\n",
    "# -> 38\n",
    "\n",
    "def getAverage(inputList):\n",
    "    if not inputList:\n",
    "        return None\n",
    "    \n",
    "    return getSum(inputList) / len(inputList)"
   ]
  },
  {
   "cell_type": "code",
   "execution_count": 171,
   "metadata": {},
   "outputs": [],
   "source": [
    "assert getAverage([3, 1, 2]) == 2\n",
    "assert getAverage([]) == None"
   ]
  },
  {
   "cell_type": "markdown",
   "metadata": {},
   "source": [
    "This is an example of *recursion*: a function which calls itself. Pure functional programming often makes heavy use of recursion, to accomplish what would otherwise require variables and loops."
   ]
  },
  {
   "cell_type": "markdown",
   "metadata": {},
   "source": [
    "As mentioned before, in pure functional programming, we avoid *program state* completely. Notice how, in the procedural example, we used a variable `sum` which changed over the course of the loop. However, our pure function `getSum()` uses recursion to accomplish the same thing.\n",
    "\n",
    "Thinking in terms of recursion can often be unintuitive, and giving up state may seem like a huge disadvantage. However, the lack of state actually provides some interesting benefits.\n",
    "\n",
    "Because functions can't depend on variables that might change, we can be assured that if we give some input to a function, then the output of that function will *always be the same*. For this reason, functional programs are very predictable, and it's much easier to check their correctness."
   ]
  },
  {
   "cell_type": "markdown",
   "metadata": {},
   "source": [
    "In pure functional programming, we aren't allowed to use mutable variables. In the procedural and OOP examples, the student data consisted of variables, some of which changed over time (test scores, after adding the third test).\n",
    "\n",
    "To define data using pure functions, we can create functions that take no inputs, and simply always return the same data. Since we won't use classes, we'll represent the student data with a tuple instead."
   ]
  },
  {
   "cell_type": "code",
   "execution_count": 104,
   "metadata": {},
   "outputs": [],
   "source": [
    "def get_student1():\n",
    "    return (\"Christine\", [91, 72, 100, 81, 92, 100], [76, 95])"
   ]
  },
  {
   "cell_type": "markdown",
   "metadata": {},
   "source": [
    "Now, we define some functions to get a student's name and compute scores."
   ]
  },
  {
   "cell_type": "code",
   "execution_count": 95,
   "metadata": {},
   "outputs": [],
   "source": [
    "def student_name(student):\n",
    "    return student[0]"
   ]
  },
  {
   "cell_type": "code",
   "execution_count": 96,
   "metadata": {},
   "outputs": [],
   "source": [
    "def student_quiz_average(student):\n",
    "    return getAverage(student[1])"
   ]
  },
  {
   "cell_type": "code",
   "execution_count": 98,
   "metadata": {},
   "outputs": [],
   "source": [
    "def student_test_average(student):\n",
    "    return getAverage(student[2])"
   ]
  },
  {
   "cell_type": "markdown",
   "metadata": {},
   "source": [
    "To compute the student's final grade, we can call the other functions we already defined, and re-use the `computeGrade` function from earlier, since it is stateless."
   ]
  },
  {
   "cell_type": "code",
   "execution_count": 99,
   "metadata": {},
   "outputs": [],
   "source": [
    "def student_grade(student):\n",
    "    return computeGrade(student_quiz_average(student), student_test_average(student))"
   ]
  },
  {
   "cell_type": "code",
   "execution_count": 100,
   "metadata": {},
   "outputs": [],
   "source": [
    "def student_letter_grade(student):\n",
    "    return gradeToLetter(student_grade(student))"
   ]
  },
  {
   "cell_type": "code",
   "execution_count": 105,
   "metadata": {},
   "outputs": [
    {
     "name": "stdout",
     "output_type": "stream",
     "text": [
      "Student's final grade (Christine)\n",
      "Weighted average: 86.26666666666668\n",
      "Letter grade: B\n"
     ]
    }
   ],
   "source": [
    "print(f\"Student's final grade ({student_name(get_student1())})\")\n",
    "print(f\"Weighted average: {student_grade(get_student1())}\")\n",
    "print(f\"Letter grade: {student_letter_grade(get_student1())}\")"
   ]
  },
  {
   "cell_type": "markdown",
   "metadata": {},
   "source": [
    "### Adding a new test"
   ]
  },
  {
   "cell_type": "markdown",
   "metadata": {},
   "source": [
    "In the procedural and OOP examples, adding a new test score was easy, because the student's data was stored using mutable variables.\n",
    "\n",
    "However, in pure functional programming, we aren't allowed to use mutable variables. How, then, can we simulate the student taking a new test?\n",
    "\n",
    "We can do this by defining a function which creates a *copy* of the student's data, but with the new test score added to the test score list."
   ]
  },
  {
   "cell_type": "code",
   "execution_count": 106,
   "metadata": {},
   "outputs": [],
   "source": [
    "def get_student1_with_new_test():\n",
    "    return (\n",
    "        get_student1()[0],\n",
    "        get_student1()[1],\n",
    "        get_student1()[2] + [42]\n",
    "    )"
   ]
  },
  {
   "cell_type": "code",
   "execution_count": 107,
   "metadata": {},
   "outputs": [
    {
     "name": "stdout",
     "output_type": "stream",
     "text": [
      "Student's final grade (Christine)\n",
      "Weighted average: 74.66666666666667\n",
      "Letter grade: C\n"
     ]
    }
   ],
   "source": [
    "print(f\"Student's final grade ({student_name(get_student1_with_new_test())})\")\n",
    "print(f\"Weighted average: {student_grade(get_student1_with_new_test())}\")\n",
    "print(f\"Letter grade: {student_letter_grade(get_student1_with_new_test())}\")"
   ]
  },
  {
   "cell_type": "markdown",
   "metadata": {},
   "source": [
    "### Multiple students"
   ]
  },
  {
   "cell_type": "markdown",
   "metadata": {},
   "source": [
    "Again, to define some data, we'll define and use a function which always returns that data:"
   ]
  },
  {
   "cell_type": "code",
   "execution_count": 109,
   "metadata": {},
   "outputs": [],
   "source": [
    "def get_students():\n",
    "    return [\n",
    "        (\"Christine\", [91, 72, 100, 81, 92, 100], [76, 95, 42]),\n",
    "        (\"Gary\", [82, 68, 80, 81, 62, 60], [72, 82, 80]),\n",
    "        (\"Alex\", [98, 82, 92, 96, 97, 100], [92, 93, 95])\n",
    "    ]"
   ]
  },
  {
   "cell_type": "markdown",
   "metadata": {},
   "source": [
    "Now we can define some functions to get and print the student's grade info. We need to be kind of careful about how to do this, since we aren't allowed to use mutable variables.\n",
    "\n",
    "We'll make a function `get_grade_info` which transforms a tuple of the form\n",
    "\n",
    "`(name, quizzes, tests)`\n",
    "\n",
    "to a tuple of the form\n",
    "\n",
    "`(name, grade, letter grade)`"
   ]
  },
  {
   "cell_type": "code",
   "execution_count": 119,
   "metadata": {},
   "outputs": [],
   "source": [
    "def get_grade_info(student):\n",
    "    return (\n",
    "        student_name(student),\n",
    "        student_grade(student),\n",
    "        student_letter_grade(student)\n",
    "    )"
   ]
  },
  {
   "cell_type": "markdown",
   "metadata": {},
   "source": [
    "Next, we'll define a function `print_grade_and_letter` which takes a tuple of the form `(name, grade, letter grade)` and prints the information to the console."
   ]
  },
  {
   "cell_type": "code",
   "execution_count": 120,
   "metadata": {},
   "outputs": [],
   "source": [
    "def print_grade_and_letter(grade_info):\n",
    "    print(f\"Student's final grade ({grade_info[0]})\")\n",
    "    print(f\"Weighted average: {grade_info[1]}\")\n",
    "    print(f\"Letter grade: {grade_info[2]}\")"
   ]
  },
  {
   "cell_type": "markdown",
   "metadata": {},
   "source": [
    "In order to use this function, we'll make use of a Python builtin `map`."
   ]
  },
  {
   "cell_type": "code",
   "execution_count": 129,
   "metadata": {},
   "outputs": [
    {
     "name": "stdout",
     "output_type": "stream",
     "text": [
      "Student's final grade (Christine)\n",
      "Weighted average: 74.66666666666667\n",
      "Letter grade: C\n",
      "Student's final grade (Gary)\n",
      "Weighted average: 76.83333333333334\n",
      "Letter grade: C\n",
      "Student's final grade (Alex)\n",
      "Weighted average: 93.5\n",
      "Letter grade: A\n"
     ]
    }
   ],
   "source": [
    "for grade_info in map(get_grade_info, get_students()):\n",
    "    print_grade_and_letter(grade_info)"
   ]
  },
  {
   "cell_type": "markdown",
   "metadata": {},
   "source": [
    "`map` takes a function and some iterable (in this case, a list) and applies the function to every element of the iterable. The result of `map` is an iterable that we can then loop over.\n",
    "\n",
    "In this case, we start with this data from `get_students()`:\n",
    "\n",
    "```\n",
    "(\"Christine\", <Christine's quizzes>, <Christine's tests>)\n",
    "(\"Gary\", <Gary's quizzes>, <Gary's tests>)\n",
    "(\"Alex\", <Alex's quizzes>, <Alex's tests>)\n",
    "```\n",
    "\n",
    "`map` applies `get_grade_info()` to every item in the list, which transforms the list into:\n",
    "\n",
    "```\n",
    "(\"Christine\", <Christine's final grade>, <Christine's letter grade>)\n",
    "(\"Gary\", <Gary's final grade>, <Gary's letter grade>)\n",
    "(\"Alex\", <Alex's final grade>, <Alex's letter grade>)\n",
    "```\n",
    "\n",
    "which we can then loop over and call `print_grade_and_letter`."
   ]
  },
  {
   "cell_type": "markdown",
   "metadata": {},
   "source": [
    "`map` is an example of a *higher-order function*. A higher-order function is a function that either takes a function itself as a parameter, or produces a function as a result. Functional-style programming often makes use of higher-order functions.\n",
    "\n"
   ]
  },
  {
   "cell_type": "markdown",
   "metadata": {},
   "source": [
    "### Task\n",
    "\n",
    "In functional programming, we often solve problems or tasks by combining different functions together.\n",
    "\n",
    "Your task is to write a snippet that prints the *maximum* and *minimum* grades of the class.\n",
    "\n",
    "**For this part, you must use a functional style**. This means you are **not allowed** to use mutable variables.\n",
    "\n",
    "Hint: Use `map` together with the function `student_grade` to convert student tuples to grades. Combine this with the Python builtins `max` and `min`.\n",
    "\n",
    "The output should look like this:\n",
    "\n",
    "```\n",
    "Maximum grade of the class: 93.5\n",
    "Minimum grade of the class: 74.66666666666667\n",
    "```"
   ]
  },
  {
   "cell_type": "markdown",
   "metadata": {},
   "source": [
    "### Your Answer (Code)"
   ]
  },
  {
   "cell_type": "code",
   "execution_count": null,
   "metadata": {},
   "outputs": [],
   "source": [
    "# YOUR CODE STARTS HERE\n",
    "\n",
    "\n",
    "\n",
    "# YOUR CODE ENDS HERE"
   ]
  },
  {
   "cell_type": "markdown",
   "metadata": {},
   "source": [
    "## Multi-paradigm programming\n",
    "\n",
    "As mentioned in the introduction, most modern popular programming languages are considered *multi-paradigm*; they support programming in an imperative/procedural, OOP, or functional style, or some blend of styles. Most skilled programmers write code that combines the strengths of each paradigm.\n",
    "\n"
   ]
  },
  {
   "cell_type": "markdown",
   "metadata": {},
   "source": [
    "Here's an example: Let's say we want to create a program that *filters* the list of students by a certain grade. We'd like to search for all the students with a grade *over* 75, and those *under* 75."
   ]
  },
  {
   "cell_type": "markdown",
   "metadata": {},
   "source": [
    "We'll start by creating the list of students. Compared to other styles, OOP lets us organize data (student name, scores) and some behaviors (computing test scores) in a very clean and natural way, so we'll use the `Student` class from before."
   ]
  },
  {
   "cell_type": "code",
   "execution_count": 210,
   "metadata": {},
   "outputs": [],
   "source": [
    "students = [\n",
    "    Student(\"Christine\", [91, 72, 100, 81, 92, 100], [76, 95, 42]),\n",
    "    Student(\"Gary\", [82, 68, 80, 81, 62, 60], [72, 82, 80]),\n",
    "    Student(\"Alex\", [98, 82, 92, 96, 97, 100], [92, 93, 95]),\n",
    "    Student(\"Johan\", [62, 50, 50, 42, 70, 60], [30, 60, 62]),\n",
    "    Student(\"Sara\", [82, 81, 85, 83, 90, 71], [72, 100, 96])\n",
    "]"
   ]
  },
  {
   "cell_type": "markdown",
   "metadata": {},
   "source": [
    "Ideally, we should make our program configurable; the code below prompts the user to input the grade to filter by. We'll save this in a variable `target_grade`.\n",
    "\n",
    "Since we created a variable which depends on input (the variable can be different every time we run the program) our program has *state*. This means that we're definitely straying from a pure functional style."
   ]
  },
  {
   "cell_type": "code",
   "execution_count": 207,
   "metadata": {},
   "outputs": [],
   "source": [
    "target_grade = float(input(\"Enter the grade you'd like to filter by:\"))"
   ]
  },
  {
   "cell_type": "markdown",
   "metadata": {},
   "source": [
    "However, just because our program has state, doesn't mean we can't use some ideas from functional programming. One of the strengths of functional programming is being able to *transform data*; higher-order functions like `map` and `filter` allow us to operate on entire containers of data very cleanly.\n",
    "\n",
    "We'll use a Python feature called *lambdas*, which allow us to create small functions which can be stored in variables. We'll define a lambda that takes a student as input, and returns `True` if the student's grade is over the target grade, otherwise `False`.\n",
    "\n",
    "Then we pass the lambda to `filter`, along with the list of students. `filter` takes a filter function and a list, and creates a new list by applying the function to every element of the list. Only elements for which the function returns `True` are collected in the list.\n",
    "\n",
    "The resulting list `students_over_grade` contains only the students whose grades are over `target_grade`.\n",
    "\n",
    "Finally, we can use the `StudentPrinter` class from before to print the student info. We use `shortPrinter` here, so that the results are shown more clearly."
   ]
  },
  {
   "cell_type": "code",
   "execution_count": 211,
   "metadata": {},
   "outputs": [
    {
     "name": "stdout",
     "output_type": "stream",
     "text": [
      "Students with *at least 75.0* in the course:\n",
      "Gary / 76.83333333333334 / C\n",
      "Alex / 93.5 / A\n",
      "Sara / 87.86666666666667 / B\n"
     ]
    }
   ],
   "source": [
    "filter_func = lambda student: student.getFinalGrade() > target_grade\n",
    "students_over_grade = filter(filter_func, students)\n",
    "\n",
    "print(f\"Students with *at least {target_grade}* in the course:\")\n",
    "for student in students_over_grade:\n",
    "    shortPrinter.printDetails(student)"
   ]
  },
  {
   "cell_type": "markdown",
   "metadata": {},
   "source": [
    "We can do something similar to filter students whose grade is *under* the target grade."
   ]
  },
  {
   "cell_type": "code",
   "execution_count": 212,
   "metadata": {},
   "outputs": [
    {
     "name": "stdout",
     "output_type": "stream",
     "text": [
      "Students *under 75.0* in the course:\n",
      "Christine / 74.66666666666667 / C\n",
      "Johan / 51.666666666666664 / F\n"
     ]
    }
   ],
   "source": [
    "filter_func = lambda student: student.getFinalGrade() <= target_grade\n",
    "students_under_grade = filter(filter_func, students)\n",
    "\n",
    "print(f\"Students *under {target_grade}* in the course:\")\n",
    "for student in students_under_grade:\n",
    "    shortPrinter.printDetails(student)"
   ]
  },
  {
   "cell_type": "markdown",
   "metadata": {},
   "source": [
    "In this example, we've made use of Python being a *multi-paradigm language* and written code in a blend of different styles. Blending paradigms allows us to have the \"best of all worlds\"; we can combine the strengths of the different paradigms, resulting in very high-quality code.\n",
    "\n",
    "As mentioned in the introduction, most modern programming languages are multi-paradigm, and most skilled programmers prefer to write multi-paradigm code.\n",
    "\n",
    "Each paradigm does have weaknesses; these are mitigated by blending other paradigms where it makes sense. For example, not using classes and instead declaring a bunch of different variables for student names and scores (as in the procedural example) would have been quite messy, which is why we chose to use the `Student` class. On the other hand, the code to filter by grades would have gotten quite complex if we didn't use any ideas from functional programming; using the higher-order function `filter` allows us to simplify the logic quite a lot."
   ]
  },
  {
   "cell_type": "markdown",
   "metadata": {},
   "source": [
    "## Questions\n",
    "\n",
    "Answer each of the questions below. Remember to **justify your answer**; it's not enough to simply answer the question, you also need to state *how you know*.\n",
    "\n",
    "1.   Which of the following paradigms are considered *imperative*: Procedural, object-oriented, or pure functional.\n",
    "2.   Which of the following paradigms are considered *declarative*: Procedural, object-oriented, or pure functional.\n",
    "3.   What is the difference between *imperative* and *declarative* programming?"
   ]
  },
  {
   "cell_type": "markdown",
   "metadata": {},
   "source": [
    "## Answers\n",
    "\n",
    "Write your answers to the questions here."
   ]
  },
  {
   "cell_type": "markdown",
   "metadata": {},
   "source": [
    "## (VG) Questions\n",
    "\n",
    "Choose another programming language *that supports classes and objects*. Examples: Java, C++, JavaScript. I **strongly recommend** choosing a language you're familiar with.\n",
    "\n",
    "Translate the *object-oriented* example from this lab to your chosen programming language, then answer the following questions:\n",
    "\n",
    "* How does the code change when comparing Python to your chosen programming language? Does the code become more complex, or does it seem simpler in the other language?\n",
    "* What might be the reason for some of these differences? In other words: why might the designers of (chosen programming language) design the language this way?\n",
    "\n",
    "As you answer these questions, remember that \"code that *looks* more complex\" does not necessarily mean \"worse programming language\", and \"code that *looks* simpler\" does not mean \"better programming language\". Every design choice in a programming language has a reason; for these questions, I want you to think about *what* these reasons are."
   ]
  },
  {
   "cell_type": "markdown",
   "metadata": {},
   "source": [
    "## AI Deklaration\n",
    "\n",
    "Användning av Al-verktyg är tillåtet i begränsad utsträckning. Du får inte klistra in uppgifter eller delar av uppgifter, men du får använda AI för att förtydliga nya ord och begrepp eller ge exempel.\n",
    "\n",
    "Här på slutet ska du ange allmänt vilka AI-verktyg som använts, hur du använt dem, och hur användbara dessa verktyg är. Om du inte använt AI-stöd så skriv bara att \"AI-verktyg har ej använts\"."
   ]
  },
  {
   "cell_type": "markdown",
   "metadata": {},
   "source": [
    "### STUDENTSVAR (AI-användning):\n",
    "\n",
    "*  "
   ]
  }
 ],
 "metadata": {
  "kernelspec": {
   "display_name": "Python 3",
   "language": "python",
   "name": "python3"
  },
  "language_info": {
   "codemirror_mode": {
    "name": "ipython",
    "version": 3
   },
   "file_extension": ".py",
   "mimetype": "text/x-python",
   "name": "python",
   "nbconvert_exporter": "python",
   "pygments_lexer": "ipython3",
   "version": "3.11.5"
  }
 },
 "nbformat": 4,
 "nbformat_minor": 2
}
